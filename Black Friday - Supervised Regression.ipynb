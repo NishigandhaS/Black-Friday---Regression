{
 "cells": [
  {
   "cell_type": "markdown",
   "metadata": {},
   "source": [
    "# Introduction:\n",
    "A retail company “ABC Private Limited” wants to understand the customer purchase behaviour (specifically, purchase amount) against various products of different categories. They have shared purchase summary of various customers for selected high volume products from last month.\n",
    "The data set also contains customer demographics (age, gender, marital status, city_type, stay_in_current_city), product details (product_id and product category) and Total purchase_amount from last month.\n",
    "\n",
    "Now, they want to build a model to predict the purchase amount of customer against various products which will help them to create personalized offer for customers against different products."
   ]
  },
  {
   "cell_type": "markdown",
   "metadata": {},
   "source": [
    "##### Importing the necessary libraries"
   ]
  },
  {
   "cell_type": "code",
   "execution_count": 1,
   "metadata": {},
   "outputs": [],
   "source": [
    "import numpy as np\n",
    "import pandas as pd\n",
    "import matplotlib.pyplot as plt\n",
    "import seaborn as sns"
   ]
  },
  {
   "cell_type": "markdown",
   "metadata": {},
   "source": [
    "##### Reading the train & test datasets and exploring them further"
   ]
  },
  {
   "cell_type": "code",
   "execution_count": 2,
   "metadata": {},
   "outputs": [
    {
     "data": {
      "text/html": [
       "<div>\n",
       "<style scoped>\n",
       "    .dataframe tbody tr th:only-of-type {\n",
       "        vertical-align: middle;\n",
       "    }\n",
       "\n",
       "    .dataframe tbody tr th {\n",
       "        vertical-align: top;\n",
       "    }\n",
       "\n",
       "    .dataframe thead th {\n",
       "        text-align: right;\n",
       "    }\n",
       "</style>\n",
       "<table border=\"1\" class=\"dataframe\">\n",
       "  <thead>\n",
       "    <tr style=\"text-align: right;\">\n",
       "      <th></th>\n",
       "      <th>User_ID</th>\n",
       "      <th>Product_ID</th>\n",
       "      <th>Gender</th>\n",
       "      <th>Age</th>\n",
       "      <th>Occupation</th>\n",
       "      <th>City_Category</th>\n",
       "      <th>Stay_In_Current_City_Years</th>\n",
       "      <th>Marital_Status</th>\n",
       "      <th>Product_Category_1</th>\n",
       "      <th>Product_Category_2</th>\n",
       "      <th>Product_Category_3</th>\n",
       "      <th>Purchase</th>\n",
       "    </tr>\n",
       "  </thead>\n",
       "  <tbody>\n",
       "    <tr>\n",
       "      <th>0</th>\n",
       "      <td>1000001</td>\n",
       "      <td>P00069042</td>\n",
       "      <td>F</td>\n",
       "      <td>0-17</td>\n",
       "      <td>10</td>\n",
       "      <td>A</td>\n",
       "      <td>2</td>\n",
       "      <td>0</td>\n",
       "      <td>3</td>\n",
       "      <td>NaN</td>\n",
       "      <td>NaN</td>\n",
       "      <td>8370</td>\n",
       "    </tr>\n",
       "    <tr>\n",
       "      <th>1</th>\n",
       "      <td>1000001</td>\n",
       "      <td>P00248942</td>\n",
       "      <td>F</td>\n",
       "      <td>0-17</td>\n",
       "      <td>10</td>\n",
       "      <td>A</td>\n",
       "      <td>2</td>\n",
       "      <td>0</td>\n",
       "      <td>1</td>\n",
       "      <td>6.0</td>\n",
       "      <td>14.0</td>\n",
       "      <td>15200</td>\n",
       "    </tr>\n",
       "    <tr>\n",
       "      <th>2</th>\n",
       "      <td>1000001</td>\n",
       "      <td>P00087842</td>\n",
       "      <td>F</td>\n",
       "      <td>0-17</td>\n",
       "      <td>10</td>\n",
       "      <td>A</td>\n",
       "      <td>2</td>\n",
       "      <td>0</td>\n",
       "      <td>12</td>\n",
       "      <td>NaN</td>\n",
       "      <td>NaN</td>\n",
       "      <td>1422</td>\n",
       "    </tr>\n",
       "    <tr>\n",
       "      <th>3</th>\n",
       "      <td>1000001</td>\n",
       "      <td>P00085442</td>\n",
       "      <td>F</td>\n",
       "      <td>0-17</td>\n",
       "      <td>10</td>\n",
       "      <td>A</td>\n",
       "      <td>2</td>\n",
       "      <td>0</td>\n",
       "      <td>12</td>\n",
       "      <td>14.0</td>\n",
       "      <td>NaN</td>\n",
       "      <td>1057</td>\n",
       "    </tr>\n",
       "    <tr>\n",
       "      <th>4</th>\n",
       "      <td>1000002</td>\n",
       "      <td>P00285442</td>\n",
       "      <td>M</td>\n",
       "      <td>55+</td>\n",
       "      <td>16</td>\n",
       "      <td>C</td>\n",
       "      <td>4+</td>\n",
       "      <td>0</td>\n",
       "      <td>8</td>\n",
       "      <td>NaN</td>\n",
       "      <td>NaN</td>\n",
       "      <td>7969</td>\n",
       "    </tr>\n",
       "  </tbody>\n",
       "</table>\n",
       "</div>"
      ],
      "text/plain": [
       "   User_ID Product_ID Gender   Age  Occupation City_Category  \\\n",
       "0  1000001  P00069042      F  0-17          10             A   \n",
       "1  1000001  P00248942      F  0-17          10             A   \n",
       "2  1000001  P00087842      F  0-17          10             A   \n",
       "3  1000001  P00085442      F  0-17          10             A   \n",
       "4  1000002  P00285442      M   55+          16             C   \n",
       "\n",
       "  Stay_In_Current_City_Years  Marital_Status  Product_Category_1  \\\n",
       "0                          2               0                   3   \n",
       "1                          2               0                   1   \n",
       "2                          2               0                  12   \n",
       "3                          2               0                  12   \n",
       "4                         4+               0                   8   \n",
       "\n",
       "   Product_Category_2  Product_Category_3  Purchase  \n",
       "0                 NaN                 NaN      8370  \n",
       "1                 6.0                14.0     15200  \n",
       "2                 NaN                 NaN      1422  \n",
       "3                14.0                 NaN      1057  \n",
       "4                 NaN                 NaN      7969  "
      ]
     },
     "execution_count": 2,
     "metadata": {},
     "output_type": "execute_result"
    }
   ],
   "source": [
    "train = pd.read_csv('train.csv')\n",
    "test = pd.read_csv('test.csv')\n",
    "train.head()"
   ]
  },
  {
   "cell_type": "code",
   "execution_count": 3,
   "metadata": {},
   "outputs": [
    {
     "data": {
      "text/plain": [
       "((550068, 12), (233599, 11))"
      ]
     },
     "execution_count": 3,
     "metadata": {},
     "output_type": "execute_result"
    }
   ],
   "source": [
    "train.shape, test.shape"
   ]
  },
  {
   "cell_type": "markdown",
   "metadata": {},
   "source": [
    "##### So there are more half a million rows in the train dataset, and about a quarter of a million in the test dataset. We have sufficient data.\n",
    "At first glance we can see:\n",
    "    1. Age is given in range, we will try to compute into numbers\n",
    "    2. Ciy Category, Gender needs to be converted to numerical\n",
    "    3. Stay in current city - should be a categorical column\n",
    "    4. Product categories are masked columns. Product category 2 & 3 seem to have lots of null values. We will see how to compute them.\n",
    "    5. Purchase is our Target variable and the data is in Dollars.\n",
    "    6. Customer ID & Product ID is being repeated. We can group the whole dataset cutsomer-wise as well\n",
    "    "
   ]
  },
  {
   "cell_type": "markdown",
   "metadata": {},
   "source": [
    "All the data seems to be categorical in nature. We will first look at univariate analysis."
   ]
  },
  {
   "cell_type": "code",
   "execution_count": 4,
   "metadata": {},
   "outputs": [
    {
     "data": {
      "text/plain": [
       "Index(['User_ID', 'Product_ID', 'Gender', 'Age', 'Occupation', 'City_Category',\n",
       "       'Stay_In_Current_City_Years', 'Marital_Status', 'Product_Category_1',\n",
       "       'Product_Category_2', 'Product_Category_3', 'Purchase'],\n",
       "      dtype='object')"
      ]
     },
     "execution_count": 4,
     "metadata": {},
     "output_type": "execute_result"
    }
   ],
   "source": [
    "train.columns"
   ]
  },
  {
   "cell_type": "code",
   "execution_count": 5,
   "metadata": {},
   "outputs": [
    {
     "data": {
      "text/plain": [
       "Product_Category_2    173638\n",
       "Product_Category_3    383247\n",
       "dtype: int64"
      ]
     },
     "execution_count": 5,
     "metadata": {},
     "output_type": "execute_result"
    }
   ],
   "source": [
    "train.isnull().sum()[train.isnull().sum()!=0]"
   ]
  },
  {
   "cell_type": "code",
   "execution_count": 6,
   "metadata": {},
   "outputs": [
    {
     "data": {
      "text/plain": [
       "Product_Category_2     72344\n",
       "Product_Category_3    162562\n",
       "dtype: int64"
      ]
     },
     "execution_count": 6,
     "metadata": {},
     "output_type": "execute_result"
    }
   ],
   "source": [
    "test.isnull().sum()[test.isnull().sum()!=0]"
   ]
  },
  {
   "cell_type": "markdown",
   "metadata": {},
   "source": [
    "# Univariate Analysis"
   ]
  },
  {
   "cell_type": "code",
   "execution_count": 7,
   "metadata": {},
   "outputs": [
    {
     "data": {
      "image/png": "[encoded data removed]",
      "text/plain": [
       "<Figure size 432x288 with 1 Axes>"
      ]
     },
     "metadata": {
      "needs_background": "light"
     },
     "output_type": "display_data"
    },
    {
     "data": {
      "image/png": "[encoded data removed]",
      "text/plain": [
       "<Figure size 432x288 with 1 Axes>"
      ]
     },
     "metadata": {
      "needs_background": "light"
     },
     "output_type": "display_data"
    },
    {
     "data": {
      "image/png": "[encoded data removed]",
      "text/plain": [
       "<Figure size 432x288 with 1 Axes>"
      ]
     },
     "metadata": {
      "needs_background": "light"
     },
     "output_type": "display_data"
    },
    {
     "data": {
      "image/png": "[encoded data removed]",
      "text/plain": [
       "<Figure size 432x288 with 1 Axes>"
      ]
     },
     "metadata": {
      "needs_background": "light"
     },
     "output_type": "display_data"
    },
    {
     "data": {
      "image/png": "[encoded data removed]",
      "text/plain": [
       "<Figure size 432x288 with 1 Axes>"
      ]
     },
     "metadata": {
      "needs_background": "light"
     },
     "output_type": "display_data"
    },
    {
     "data": {
      "image/png": "[encoded data removed]",
      "text/plain": [
       "<Figure size 432x288 with 1 Axes>"
      ]
     },
     "metadata": {
      "needs_background": "light"
     },
     "output_type": "display_data"
    },
    {
     "data": {
      "image/png": "[encoded data removed]",
      "text/plain": [
       "<Figure size 432x288 with 1 Axes>"
      ]
     },
     "metadata": {
      "needs_background": "light"
     },
     "output_type": "display_data"
    },
    {
     "data": {
      "image/png": "[encoded data removed]",
      "text/plain": [
       "<Figure size 432x288 with 1 Axes>"
      ]
     },
     "metadata": {
      "needs_background": "light"
     },
     "output_type": "display_data"
    },
    {
     "data": {
      "image/png": "[encoded data removed]",
      "text/plain": [
       "<Figure size 432x288 with 1 Axes>"
      ]
     },
     "metadata": {
      "needs_background": "light"
     },
     "output_type": "display_data"
    }
   ],
   "source": [
    "for i in train[['Gender', 'Age', 'Occupation', 'City_Category','Stay_In_Current_City_Years', 'Marital_Status', 'Product_Category_1','Product_Category_2', 'Product_Category_3']]:\n",
    "    sns.countplot(train[i])\n",
    "    plt.show()"
   ]
  },
  {
   "cell_type": "code",
   "execution_count": 8,
   "metadata": {},
   "outputs": [
    {
     "data": {
      "text/plain": [
       "5891"
      ]
     },
     "execution_count": 8,
     "metadata": {},
     "output_type": "execute_result"
    }
   ],
   "source": [
    "train.User_ID.nunique()"
   ]
  },
  {
   "cell_type": "code",
   "execution_count": 9,
   "metadata": {},
   "outputs": [
    {
     "data": {
      "text/plain": [
       "3631"
      ]
     },
     "execution_count": 9,
     "metadata": {},
     "output_type": "execute_result"
    }
   ],
   "source": [
    "train.Product_ID.nunique()"
   ]
  },
  {
   "cell_type": "code",
   "execution_count": 10,
   "metadata": {
    "scrolled": true
   },
   "outputs": [
    {
     "data": {
      "text/plain": [
       "<matplotlib.axes._subplots.AxesSubplot at 0x4786fa88d0>"
      ]
     },
     "execution_count": 10,
     "metadata": {},
     "output_type": "execute_result"
    },
    {
     "data": {
      "image/png": "[encoded data removed]",
      "text/plain": [
       "<Figure size 432x288 with 1 Axes>"
      ]
     },
     "metadata": {
      "needs_background": "light"
     },
     "output_type": "display_data"
    }
   ],
   "source": [
    "sns.distplot(train.User_ID.value_counts())"
   ]
  },
  {
   "cell_type": "code",
   "execution_count": 11,
   "metadata": {},
   "outputs": [
    {
     "data": {
      "text/plain": [
       "<matplotlib.axes._subplots.AxesSubplot at 0x4786db6ac8>"
      ]
     },
     "execution_count": 11,
     "metadata": {},
     "output_type": "execute_result"
    },
    {
     "data": {
      "image/png": "[encoded data removed]",
      "text/plain": [
       "<Figure size 432x288 with 1 Axes>"
      ]
     },
     "metadata": {
      "needs_background": "light"
     },
     "output_type": "display_data"
    }
   ],
   "source": [
    "sns.distplot(train.Product_ID.value_counts())"
   ]
  },
  {
   "cell_type": "code",
   "execution_count": 12,
   "metadata": {},
   "outputs": [
    {
     "data": {
      "text/plain": [
       "<matplotlib.axes._subplots.AxesSubplot at 0x4786bbada0>"
      ]
     },
     "execution_count": 12,
     "metadata": {},
     "output_type": "execute_result"
    },
    {
     "data": {
      "image/png": "[encoded data removed]",
      "text/plain": [
       "<Figure size 432x288 with 1 Axes>"
      ]
     },
     "metadata": {
      "needs_background": "light"
     },
     "output_type": "display_data"
    }
   ],
   "source": [
    "sns.distplot(train.Purchase)"
   ]
  },
  {
   "cell_type": "code",
   "execution_count": 13,
   "metadata": {},
   "outputs": [
    {
     "data": {
      "text/plain": [
       "count    550068.000000\n",
       "mean       9263.968713\n",
       "std        5023.065394\n",
       "min          12.000000\n",
       "25%        5823.000000\n",
       "50%        8047.000000\n",
       "75%       12054.000000\n",
       "max       23961.000000\n",
       "Name: Purchase, dtype: float64"
      ]
     },
     "execution_count": 13,
     "metadata": {},
     "output_type": "execute_result"
    }
   ],
   "source": [
    "train.Purchase.describe()"
   ]
  },
  {
   "cell_type": "markdown",
   "metadata": {},
   "source": [
    "#### Inference:\n",
    "    1. There are about 5891 unique customers purchasing 3631 variety of products.\n",
    "    2. Each entry of the customer is a new purchase which is ranging from a mere 6 products to 1026. For a customer to purchase 1026 products in huge in 1 sale in 1 month.\n",
    "    3. Naturally both user id and product id are highly right skewed.\n",
    "    4. Surpisingly more number of cutsomers are males.\n",
    "    5. They seems to be mostly married (0) and less unmarried/ single (1)\n",
    "    6. Occupation & Product cat 1 has 20 categories, product cat 2 and 3 have 17 and 15 respectively.\n",
    "    7. More number of customers between the age 18-25, living in City Cat B since teh past 1 year\n",
    "    8. Looking at the distribution ranging from $12 to max of $24k. This is a multi-gaussian distribution with clear clusters."
   ]
  },
  {
   "cell_type": "markdown",
   "metadata": {},
   "source": [
    "# Biavariate Analysis"
   ]
  },
  {
   "cell_type": "markdown",
   "metadata": {},
   "source": [
    "Here we compare the variables with the target variable to get a better understanding"
   ]
  },
  {
   "cell_type": "code",
   "execution_count": 14,
   "metadata": {
    "scrolled": true
   },
   "outputs": [
    {
     "data": {
      "image/png": "[encoded data removed]",
      "text/plain": [
       "<Figure size 432x288 with 1 Axes>"
      ]
     },
     "metadata": {
      "needs_background": "light"
     },
     "output_type": "display_data"
    },
    {
     "data": {
      "image/png": "[encoded data removed]",
      "text/plain": [
       "<Figure size 432x288 with 1 Axes>"
      ]
     },
     "metadata": {
      "needs_background": "light"
     },
     "output_type": "display_data"
    },
    {
     "data": {
      "image/png": "[encoded data removed]",
      "text/plain": [
       "<Figure size 432x288 with 1 Axes>"
      ]
     },
     "metadata": {
      "needs_background": "light"
     },
     "output_type": "display_data"
    },
    {
     "data": {
      "image/png": "[encoded data removed]",
      "text/plain": [
       "<Figure size 432x288 with 1 Axes>"
      ]
     },
     "metadata": {
      "needs_background": "light"
     },
     "output_type": "display_data"
    },
    {
     "data": {
      "image/png": "[encoded data removed]",
      "text/plain": [
       "<Figure size 432x288 with 1 Axes>"
      ]
     },
     "metadata": {
      "needs_background": "light"
     },
     "output_type": "display_data"
    },
    {
     "data": {
      "image/png": "[encoded data removed]",
      "text/plain": [
       "<Figure size 432x288 with 1 Axes>"
      ]
     },
     "metadata": {
      "needs_background": "light"
     },
     "output_type": "display_data"
    },
    {
     "data": {
      "image/png": "[encoded data removed]",
      "text/plain": [
       "<Figure size 432x288 with 1 Axes>"
      ]
     },
     "metadata": {
      "needs_background": "light"
     },
     "output_type": "display_data"
    },
    {
     "data": {
      "image/png": "[encoded data removed]",
      "text/plain": [
       "<Figure size 432x288 with 1 Axes>"
      ]
     },
     "metadata": {
      "needs_background": "light"
     },
     "output_type": "display_data"
    },
    {
     "data": {
      "image/png": "[encoded data removed]",
      "text/plain": [
       "<Figure size 432x288 with 1 Axes>"
      ]
     },
     "metadata": {
      "needs_background": "light"
     },
     "output_type": "display_data"
    }
   ],
   "source": [
    "for i in train[['Gender', 'Age', 'Occupation', 'City_Category','Stay_In_Current_City_Years', 'Marital_Status', 'Product_Category_1','Product_Category_2', 'Product_Category_3']]:\n",
    "    sns.barplot(train[i], train.Purchase)\n",
    "    plt.show()"
   ]
  },
  {
   "cell_type": "code",
   "execution_count": 15,
   "metadata": {},
   "outputs": [
    {
     "name": "stderr",
     "output_type": "stream",
     "text": [
      "C:\\Users\\Shweta  Sharma\\Anaconda\\lib\\site-packages\\pandas\\core\\ops.py:1649: FutureWarning: elementwise comparison failed; returning scalar instead, but in the future will perform elementwise comparison\n",
      "  result = method(y)\n"
     ]
    },
    {
     "data": {
      "text/plain": [
       "Series([], Name: Purchase, dtype: int64)"
      ]
     },
     "execution_count": 15,
     "metadata": {},
     "output_type": "execute_result"
    }
   ],
   "source": [
    "train[train.User_ID=='1000001']['Purchase']"
   ]
  },
  {
   "cell_type": "code",
   "execution_count": 16,
   "metadata": {},
   "outputs": [
    {
     "data": {
      "text/plain": [
       "count    5.891000e+03\n",
       "mean     8.650166e+05\n",
       "std      9.436445e+05\n",
       "min      4.668100e+04\n",
       "25%      2.376780e+05\n",
       "50%      5.212130e+05\n",
       "75%      1.119250e+06\n",
       "max      1.053691e+07\n",
       "Name: Purchase, dtype: float64"
      ]
     },
     "execution_count": 16,
     "metadata": {},
     "output_type": "execute_result"
    }
   ],
   "source": [
    "(train.groupby('User_ID')['Purchase'].sum()).describe()"
   ]
  },
  {
   "cell_type": "markdown",
   "metadata": {},
   "source": [
    "#### Inference:\n",
    "    1. The purchase amount is definietly not in dollars as its ranging from a minimum of 4k to max of 1lac oer customer. \n",
    "    2. This also goes to prove that the store could have a lot of DUrable items like TV, Furniture, Electronics, etc.\n",
    "    3. The purchase amount doesnt show any distinction based on the Occupation, Gender, Age, City & Marital Status\n",
    "    4. The product category shows varying sales as the some products also belong to multiple categories."
   ]
  },
  {
   "cell_type": "markdown",
   "metadata": {},
   "source": [
    "# Imputing the null values"
   ]
  },
  {
   "cell_type": "code",
   "execution_count": 17,
   "metadata": {},
   "outputs": [
    {
     "data": {
      "text/plain": [
       "Product_Category_2    173638\n",
       "Product_Category_3    383247\n",
       "dtype: int64"
      ]
     },
     "execution_count": 17,
     "metadata": {},
     "output_type": "execute_result"
    }
   ],
   "source": [
    "train.isnull().sum()[train.isnull().sum()!=0]"
   ]
  },
  {
   "cell_type": "markdown",
   "metadata": {},
   "source": [
    "Only product cat 2 and 3 have null values which will be imputed as 0 since they definitely belong to product cat 1."
   ]
  },
  {
   "cell_type": "code",
   "execution_count": 18,
   "metadata": {},
   "outputs": [],
   "source": [
    "train.Product_Category_2 = train.Product_Category_2.fillna(0)\n",
    "train.Product_Category_3 = train.Product_Category_3.fillna(0)\n",
    "test.Product_Category_2 = test.Product_Category_2.fillna(0)\n",
    "test.Product_Category_3 = test.Product_Category_3.fillna(0)"
   ]
  },
  {
   "cell_type": "code",
   "execution_count": 19,
   "metadata": {},
   "outputs": [
    {
     "data": {
      "text/plain": [
       "User_ID                       0\n",
       "Product_ID                    0\n",
       "Gender                        0\n",
       "Age                           0\n",
       "Occupation                    0\n",
       "City_Category                 0\n",
       "Stay_In_Current_City_Years    0\n",
       "Marital_Status                0\n",
       "Product_Category_1            0\n",
       "Product_Category_2            0\n",
       "Product_Category_3            0\n",
       "Purchase                      0\n",
       "dtype: int64"
      ]
     },
     "execution_count": 19,
     "metadata": {},
     "output_type": "execute_result"
    }
   ],
   "source": [
    "train.isnull().sum()"
   ]
  },
  {
   "cell_type": "code",
   "execution_count": 20,
   "metadata": {},
   "outputs": [
    {
     "data": {
      "text/plain": [
       "User_ID                       0\n",
       "Product_ID                    0\n",
       "Gender                        0\n",
       "Age                           0\n",
       "Occupation                    0\n",
       "City_Category                 0\n",
       "Stay_In_Current_City_Years    0\n",
       "Marital_Status                0\n",
       "Product_Category_1            0\n",
       "Product_Category_2            0\n",
       "Product_Category_3            0\n",
       "dtype: int64"
      ]
     },
     "execution_count": 20,
     "metadata": {},
     "output_type": "execute_result"
    }
   ],
   "source": [
    "test.isnull().sum()"
   ]
  },
  {
   "cell_type": "markdown",
   "metadata": {},
   "source": [
    "## Treating the other variables"
   ]
  },
  {
   "cell_type": "code",
   "execution_count": 21,
   "metadata": {},
   "outputs": [
    {
     "data": {
      "text/plain": [
       "Index(['User_ID', 'Product_ID', 'Gender', 'Age', 'Occupation', 'City_Category',\n",
       "       'Stay_In_Current_City_Years', 'Marital_Status', 'Product_Category_1',\n",
       "       'Product_Category_2', 'Product_Category_3', 'Purchase'],\n",
       "      dtype='object')"
      ]
     },
     "execution_count": 21,
     "metadata": {},
     "output_type": "execute_result"
    }
   ],
   "source": [
    "train.columns"
   ]
  },
  {
   "cell_type": "code",
   "execution_count": 22,
   "metadata": {},
   "outputs": [],
   "source": [
    "#Age - range to num\n",
    "train['Age_cat'] = train.Age.replace({'0-17':1, '18-25':2, '26-35':3, '36-45':4, '46-50':5, '51-55':6, '55+':7})\n",
    "test['Age_cat'] = test.Age.replace({'0-17':1, '18-25':2, '26-35':3, '36-45':4, '46-50':5, '51-55':6, '55+':7})"
   ]
  },
  {
   "cell_type": "code",
   "execution_count": 23,
   "metadata": {},
   "outputs": [],
   "source": [
    "#City Cat\n",
    "train['City_cat'] = train.City_Category.replace({'A':1, 'B':2, 'C':3})\n",
    "test['City_cat'] = test.City_Category.replace({'A':1, 'B':2, 'C':3})"
   ]
  },
  {
   "cell_type": "code",
   "execution_count": 24,
   "metadata": {},
   "outputs": [],
   "source": [
    "#Gender\n",
    "train['Gender'] = train.Gender.replace({'F':0, 'M':1})\n",
    "test['Gender'] = test.Gender.replace({'F':0, 'M':1})"
   ]
  },
  {
   "cell_type": "code",
   "execution_count": 25,
   "metadata": {},
   "outputs": [],
   "source": [
    "#Stay in current city\n",
    "train['Stay_In_Current_City_Years'] = train.Stay_In_Current_City_Years.replace({'4+': 4})\n",
    "test['Stay_In_Current_City_Years'] = test.Stay_In_Current_City_Years.replace({'4+': 4})"
   ]
  },
  {
   "cell_type": "code",
   "execution_count": 26,
   "metadata": {},
   "outputs": [],
   "source": [
    "train['Stay_In_Current_City_Years'] = train['Stay_In_Current_City_Years'].astype(int)\n",
    "test['Stay_In_Current_City_Years'] = test['Stay_In_Current_City_Years'].astype(int)"
   ]
  },
  {
   "cell_type": "code",
   "execution_count": 27,
   "metadata": {},
   "outputs": [
    {
     "data": {
      "text/plain": [
       "User_ID                         int64\n",
       "Product_ID                     object\n",
       "Gender                          int64\n",
       "Age                            object\n",
       "Occupation                      int64\n",
       "City_Category                  object\n",
       "Stay_In_Current_City_Years      int32\n",
       "Marital_Status                  int64\n",
       "Product_Category_1              int64\n",
       "Product_Category_2            float64\n",
       "Product_Category_3            float64\n",
       "Purchase                        int64\n",
       "Age_cat                         int64\n",
       "City_cat                        int64\n",
       "dtype: object"
      ]
     },
     "execution_count": 27,
     "metadata": {},
     "output_type": "execute_result"
    }
   ],
   "source": [
    "train.dtypes"
   ]
  },
  {
   "cell_type": "code",
   "execution_count": 28,
   "metadata": {},
   "outputs": [
    {
     "data": {
      "text/html": [
       "<div>\n",
       "<style scoped>\n",
       "    .dataframe tbody tr th:only-of-type {\n",
       "        vertical-align: middle;\n",
       "    }\n",
       "\n",
       "    .dataframe tbody tr th {\n",
       "        vertical-align: top;\n",
       "    }\n",
       "\n",
       "    .dataframe thead th {\n",
       "        text-align: right;\n",
       "    }\n",
       "</style>\n",
       "<table border=\"1\" class=\"dataframe\">\n",
       "  <thead>\n",
       "    <tr style=\"text-align: right;\">\n",
       "      <th></th>\n",
       "      <th>User_ID</th>\n",
       "      <th>Product_ID</th>\n",
       "      <th>Gender</th>\n",
       "      <th>Age</th>\n",
       "      <th>Occupation</th>\n",
       "      <th>City_Category</th>\n",
       "      <th>Stay_In_Current_City_Years</th>\n",
       "      <th>Marital_Status</th>\n",
       "      <th>Product_Category_1</th>\n",
       "      <th>Product_Category_2</th>\n",
       "      <th>Product_Category_3</th>\n",
       "      <th>Purchase</th>\n",
       "      <th>Age_cat</th>\n",
       "      <th>City_cat</th>\n",
       "    </tr>\n",
       "  </thead>\n",
       "  <tbody>\n",
       "    <tr>\n",
       "      <th>0</th>\n",
       "      <td>1000001</td>\n",
       "      <td>P00069042</td>\n",
       "      <td>0</td>\n",
       "      <td>0-17</td>\n",
       "      <td>10</td>\n",
       "      <td>A</td>\n",
       "      <td>2</td>\n",
       "      <td>0</td>\n",
       "      <td>3</td>\n",
       "      <td>0.0</td>\n",
       "      <td>0.0</td>\n",
       "      <td>8370</td>\n",
       "      <td>1</td>\n",
       "      <td>1</td>\n",
       "    </tr>\n",
       "    <tr>\n",
       "      <th>1</th>\n",
       "      <td>1000001</td>\n",
       "      <td>P00248942</td>\n",
       "      <td>0</td>\n",
       "      <td>0-17</td>\n",
       "      <td>10</td>\n",
       "      <td>A</td>\n",
       "      <td>2</td>\n",
       "      <td>0</td>\n",
       "      <td>1</td>\n",
       "      <td>6.0</td>\n",
       "      <td>14.0</td>\n",
       "      <td>15200</td>\n",
       "      <td>1</td>\n",
       "      <td>1</td>\n",
       "    </tr>\n",
       "  </tbody>\n",
       "</table>\n",
       "</div>"
      ],
      "text/plain": [
       "   User_ID Product_ID  Gender   Age  Occupation City_Category  \\\n",
       "0  1000001  P00069042       0  0-17          10             A   \n",
       "1  1000001  P00248942       0  0-17          10             A   \n",
       "\n",
       "   Stay_In_Current_City_Years  Marital_Status  Product_Category_1  \\\n",
       "0                           2               0                   3   \n",
       "1                           2               0                   1   \n",
       "\n",
       "   Product_Category_2  Product_Category_3  Purchase  Age_cat  City_cat  \n",
       "0                 0.0                 0.0      8370        1         1  \n",
       "1                 6.0                14.0     15200        1         1  "
      ]
     },
     "execution_count": 28,
     "metadata": {},
     "output_type": "execute_result"
    }
   ],
   "source": [
    "train.head(2)"
   ]
  },
  {
   "cell_type": "code",
   "execution_count": 29,
   "metadata": {},
   "outputs": [],
   "source": [
    "newtrain = train.drop(['User_ID','Product_ID','Age', 'City_Category'], axis = 1)\n",
    "newtest = test.drop(['User_ID','Product_ID','Age', 'City_Category'], axis = 1)"
   ]
  },
  {
   "cell_type": "code",
   "execution_count": 30,
   "metadata": {},
   "outputs": [
    {
     "data": {
      "text/html": [
       "<div>\n",
       "<style scoped>\n",
       "    .dataframe tbody tr th:only-of-type {\n",
       "        vertical-align: middle;\n",
       "    }\n",
       "\n",
       "    .dataframe tbody tr th {\n",
       "        vertical-align: top;\n",
       "    }\n",
       "\n",
       "    .dataframe thead th {\n",
       "        text-align: right;\n",
       "    }\n",
       "</style>\n",
       "<table border=\"1\" class=\"dataframe\">\n",
       "  <thead>\n",
       "    <tr style=\"text-align: right;\">\n",
       "      <th></th>\n",
       "      <th>Gender</th>\n",
       "      <th>Occupation</th>\n",
       "      <th>Stay_In_Current_City_Years</th>\n",
       "      <th>Marital_Status</th>\n",
       "      <th>Product_Category_1</th>\n",
       "      <th>Product_Category_2</th>\n",
       "      <th>Product_Category_3</th>\n",
       "      <th>Purchase</th>\n",
       "      <th>Age_cat</th>\n",
       "      <th>City_cat</th>\n",
       "    </tr>\n",
       "  </thead>\n",
       "  <tbody>\n",
       "    <tr>\n",
       "      <th>0</th>\n",
       "      <td>0</td>\n",
       "      <td>10</td>\n",
       "      <td>2</td>\n",
       "      <td>0</td>\n",
       "      <td>3</td>\n",
       "      <td>0.0</td>\n",
       "      <td>0.0</td>\n",
       "      <td>8370</td>\n",
       "      <td>1</td>\n",
       "      <td>1</td>\n",
       "    </tr>\n",
       "    <tr>\n",
       "      <th>1</th>\n",
       "      <td>0</td>\n",
       "      <td>10</td>\n",
       "      <td>2</td>\n",
       "      <td>0</td>\n",
       "      <td>1</td>\n",
       "      <td>6.0</td>\n",
       "      <td>14.0</td>\n",
       "      <td>15200</td>\n",
       "      <td>1</td>\n",
       "      <td>1</td>\n",
       "    </tr>\n",
       "    <tr>\n",
       "      <th>2</th>\n",
       "      <td>0</td>\n",
       "      <td>10</td>\n",
       "      <td>2</td>\n",
       "      <td>0</td>\n",
       "      <td>12</td>\n",
       "      <td>0.0</td>\n",
       "      <td>0.0</td>\n",
       "      <td>1422</td>\n",
       "      <td>1</td>\n",
       "      <td>1</td>\n",
       "    </tr>\n",
       "    <tr>\n",
       "      <th>3</th>\n",
       "      <td>0</td>\n",
       "      <td>10</td>\n",
       "      <td>2</td>\n",
       "      <td>0</td>\n",
       "      <td>12</td>\n",
       "      <td>14.0</td>\n",
       "      <td>0.0</td>\n",
       "      <td>1057</td>\n",
       "      <td>1</td>\n",
       "      <td>1</td>\n",
       "    </tr>\n",
       "    <tr>\n",
       "      <th>4</th>\n",
       "      <td>1</td>\n",
       "      <td>16</td>\n",
       "      <td>4</td>\n",
       "      <td>0</td>\n",
       "      <td>8</td>\n",
       "      <td>0.0</td>\n",
       "      <td>0.0</td>\n",
       "      <td>7969</td>\n",
       "      <td>7</td>\n",
       "      <td>3</td>\n",
       "    </tr>\n",
       "  </tbody>\n",
       "</table>\n",
       "</div>"
      ],
      "text/plain": [
       "   Gender  Occupation  Stay_In_Current_City_Years  Marital_Status  \\\n",
       "0       0          10                           2               0   \n",
       "1       0          10                           2               0   \n",
       "2       0          10                           2               0   \n",
       "3       0          10                           2               0   \n",
       "4       1          16                           4               0   \n",
       "\n",
       "   Product_Category_1  Product_Category_2  Product_Category_3  Purchase  \\\n",
       "0                   3                 0.0                 0.0      8370   \n",
       "1                   1                 6.0                14.0     15200   \n",
       "2                  12                 0.0                 0.0      1422   \n",
       "3                  12                14.0                 0.0      1057   \n",
       "4                   8                 0.0                 0.0      7969   \n",
       "\n",
       "   Age_cat  City_cat  \n",
       "0        1         1  \n",
       "1        1         1  \n",
       "2        1         1  \n",
       "3        1         1  \n",
       "4        7         3  "
      ]
     },
     "execution_count": 30,
     "metadata": {},
     "output_type": "execute_result"
    }
   ],
   "source": [
    "newtrain.head()"
   ]
  },
  {
   "cell_type": "code",
   "execution_count": 31,
   "metadata": {},
   "outputs": [
    {
     "data": {
      "text/plain": [
       "((550068, 10), (233599, 9))"
      ]
     },
     "execution_count": 31,
     "metadata": {},
     "output_type": "execute_result"
    }
   ],
   "source": [
    "newtrain.shape, newtest.shape"
   ]
  },
  {
   "cell_type": "markdown",
   "metadata": {},
   "source": [
    "Now we dont have any null values. We now move to statiscally find the important variables for model building"
   ]
  },
  {
   "cell_type": "code",
   "execution_count": 32,
   "metadata": {},
   "outputs": [
    {
     "data": {
      "text/plain": [
       "Index(['Gender', 'Occupation', 'Stay_In_Current_City_Years', 'Marital_Status',\n",
       "       'Product_Category_1', 'Product_Category_2', 'Product_Category_3',\n",
       "       'Purchase', 'Age_cat', 'City_cat'],\n",
       "      dtype='object')"
      ]
     },
     "execution_count": 32,
     "metadata": {},
     "output_type": "execute_result"
    }
   ],
   "source": [
    "newtrain.columns"
   ]
  },
  {
   "cell_type": "markdown",
   "metadata": {},
   "source": [
    "# Statistical Tests"
   ]
  },
  {
   "cell_type": "code",
   "execution_count": 35,
   "metadata": {},
   "outputs": [],
   "source": [
    "import statsmodels.api as sm\n",
    "from statsmodels.formula.api import ols\n",
    "\n",
    "model1 = ols(\"Purchase~Gender+Occupation+Stay_In_Current_City_Years+Marital_Status+Product_Category_1+Product_Category_2+Product_Category_3+Age_cat+City_cat\",\n",
    "           data = newtrain).fit()\n"
   ]
  },
  {
   "cell_type": "code",
   "execution_count": 36,
   "metadata": {},
   "outputs": [
    {
     "data": {
      "text/html": [
       "<div>\n",
       "<style scoped>\n",
       "    .dataframe tbody tr th:only-of-type {\n",
       "        vertical-align: middle;\n",
       "    }\n",
       "\n",
       "    .dataframe tbody tr th {\n",
       "        vertical-align: top;\n",
       "    }\n",
       "\n",
       "    .dataframe thead th {\n",
       "        text-align: right;\n",
       "    }\n",
       "</style>\n",
       "<table border=\"1\" class=\"dataframe\">\n",
       "  <thead>\n",
       "    <tr style=\"text-align: right;\">\n",
       "      <th></th>\n",
       "      <th>df</th>\n",
       "      <th>sum_sq</th>\n",
       "      <th>mean_sq</th>\n",
       "      <th>F</th>\n",
       "      <th>PR(&gt;F)</th>\n",
       "    </tr>\n",
       "  </thead>\n",
       "  <tbody>\n",
       "    <tr>\n",
       "      <th>Gender</th>\n",
       "      <td>1.0</td>\n",
       "      <td>5.054122e+10</td>\n",
       "      <td>5.054122e+10</td>\n",
       "      <td>2362.685807</td>\n",
       "      <td>0.000000e+00</td>\n",
       "    </tr>\n",
       "    <tr>\n",
       "      <th>Occupation</th>\n",
       "      <td>1.0</td>\n",
       "      <td>2.662356e+09</td>\n",
       "      <td>2.662356e+09</td>\n",
       "      <td>124.459026</td>\n",
       "      <td>6.732507e-29</td>\n",
       "    </tr>\n",
       "    <tr>\n",
       "      <th>Stay_In_Current_City_Years</th>\n",
       "      <td>1.0</td>\n",
       "      <td>2.384818e+08</td>\n",
       "      <td>2.384818e+08</td>\n",
       "      <td>11.148478</td>\n",
       "      <td>8.410624e-04</td>\n",
       "    </tr>\n",
       "    <tr>\n",
       "      <th>Marital_Status</th>\n",
       "      <td>1.0</td>\n",
       "      <td>5.917990e+04</td>\n",
       "      <td>5.917990e+04</td>\n",
       "      <td>0.002767</td>\n",
       "      <td>9.580524e-01</td>\n",
       "    </tr>\n",
       "    <tr>\n",
       "      <th>Product_Category_1</th>\n",
       "      <td>1.0</td>\n",
       "      <td>1.616939e+12</td>\n",
       "      <td>1.616939e+12</td>\n",
       "      <td>75588.202709</td>\n",
       "      <td>0.000000e+00</td>\n",
       "    </tr>\n",
       "    <tr>\n",
       "      <th>Product_Category_2</th>\n",
       "      <td>1.0</td>\n",
       "      <td>1.175466e+10</td>\n",
       "      <td>1.175466e+10</td>\n",
       "      <td>549.503414</td>\n",
       "      <td>1.852662e-121</td>\n",
       "    </tr>\n",
       "    <tr>\n",
       "      <th>Product_Category_3</th>\n",
       "      <td>1.0</td>\n",
       "      <td>3.841525e+11</td>\n",
       "      <td>3.841525e+11</td>\n",
       "      <td>17958.248786</td>\n",
       "      <td>0.000000e+00</td>\n",
       "    </tr>\n",
       "    <tr>\n",
       "      <th>Age_cat</th>\n",
       "      <td>1.0</td>\n",
       "      <td>1.469083e+10</td>\n",
       "      <td>1.469083e+10</td>\n",
       "      <td>686.762724</td>\n",
       "      <td>2.802625e-151</td>\n",
       "    </tr>\n",
       "    <tr>\n",
       "      <th>City_cat</th>\n",
       "      <td>1.0</td>\n",
       "      <td>3.133875e+10</td>\n",
       "      <td>3.133875e+10</td>\n",
       "      <td>1465.014800</td>\n",
       "      <td>4.152128e-320</td>\n",
       "    </tr>\n",
       "    <tr>\n",
       "      <th>Residual</th>\n",
       "      <td>550058.0</td>\n",
       "      <td>1.176652e+13</td>\n",
       "      <td>2.139143e+07</td>\n",
       "      <td>NaN</td>\n",
       "      <td>NaN</td>\n",
       "    </tr>\n",
       "  </tbody>\n",
       "</table>\n",
       "</div>"
      ],
      "text/plain": [
       "                                  df        sum_sq       mean_sq  \\\n",
       "Gender                           1.0  5.054122e+10  5.054122e+10   \n",
       "Occupation                       1.0  2.662356e+09  2.662356e+09   \n",
       "Stay_In_Current_City_Years       1.0  2.384818e+08  2.384818e+08   \n",
       "Marital_Status                   1.0  5.917990e+04  5.917990e+04   \n",
       "Product_Category_1               1.0  1.616939e+12  1.616939e+12   \n",
       "Product_Category_2               1.0  1.175466e+10  1.175466e+10   \n",
       "Product_Category_3               1.0  3.841525e+11  3.841525e+11   \n",
       "Age_cat                          1.0  1.469083e+10  1.469083e+10   \n",
       "City_cat                         1.0  3.133875e+10  3.133875e+10   \n",
       "Residual                    550058.0  1.176652e+13  2.139143e+07   \n",
       "\n",
       "                                       F         PR(>F)  \n",
       "Gender                       2362.685807   0.000000e+00  \n",
       "Occupation                    124.459026   6.732507e-29  \n",
       "Stay_In_Current_City_Years     11.148478   8.410624e-04  \n",
       "Marital_Status                  0.002767   9.580524e-01  \n",
       "Product_Category_1          75588.202709   0.000000e+00  \n",
       "Product_Category_2            549.503414  1.852662e-121  \n",
       "Product_Category_3          17958.248786   0.000000e+00  \n",
       "Age_cat                       686.762724  2.802625e-151  \n",
       "City_cat                     1465.014800  4.152128e-320  \n",
       "Residual                             NaN            NaN  "
      ]
     },
     "execution_count": 36,
     "metadata": {},
     "output_type": "execute_result"
    }
   ],
   "source": [
    "anova_tbl = sm.stats.anova_lm(model1)\n",
    "anova_tbl"
   ]
  },
  {
   "cell_type": "code",
   "execution_count": 37,
   "metadata": {},
   "outputs": [
    {
     "data": {
      "text/plain": [
       "Gender                        False\n",
       "Occupation                    False\n",
       "Stay_In_Current_City_Years    False\n",
       "Marital_Status                 True\n",
       "Product_Category_1            False\n",
       "Product_Category_2            False\n",
       "Product_Category_3            False\n",
       "Age_cat                       False\n",
       "City_cat                      False\n",
       "Residual                      False\n",
       "Name: PR(>F), dtype: bool"
      ]
     },
     "execution_count": 37,
     "metadata": {},
     "output_type": "execute_result"
    }
   ],
   "source": [
    "anova_tbl['PR(>F)']>0.05"
   ]
  },
  {
   "cell_type": "markdown",
   "metadata": {},
   "source": [
    "Marital Status is not controbuting much to the model as teh pavlue is more than 0.05,"
   ]
  },
  {
   "cell_type": "code",
   "execution_count": null,
   "metadata": {},
   "outputs": [],
   "source": [
    "newtrain = newtrain.drop(['Marital_Status'], axis = 1)\n",
    "newtest = newtest.drop(['Marital_Status'], axis = 1)"
   ]
  },
  {
   "cell_type": "markdown",
   "metadata": {},
   "source": [
    "# Model builidng"
   ]
  },
  {
   "cell_type": "code",
   "execution_count": null,
   "metadata": {},
   "outputs": [],
   "source": [
    "X = newtrain.drop('Purchase', axis =1)\n",
    "y = newtrain['Purchase']"
   ]
  },
  {
   "cell_type": "code",
   "execution_count": null,
   "metadata": {},
   "outputs": [],
   "source": [
    "#Stacked model\n",
    "from sklearn.tree import DecisionTreeRegressor\n",
    "from sklearn.ensemble import RandomForestRegressor, BaggingRegressor,GradientBoostingRegressor\n",
    "\n",
    "from xgboost.sklearn import XGBRegressor\n",
    "from sklearn.linear_model import Lasso, Ridge, LinearRegression\n",
    "\n",
    "def stackedmodels():\n",
    "    models = dict()\n",
    "    models['LR'] = LinearRegression()\n",
    "    models['Lasso'] = Lasso()\n",
    "    models['Ridge'] = Ridge()\n",
    "    models['Tree'] = DecisionTreeRegressor()\n",
    "    #models['RF'] = RandomForestRegressor()\n",
    "    models['Bagg'] = BaggingRegressor()\n",
    "    models['GBR'] = GradientBoostingRegressor()\n",
    "    #models['XGB'] = XGBRegressor()\n",
    "    return(models)"
   ]
  },
  {
   "cell_type": "code",
   "execution_count": null,
   "metadata": {},
   "outputs": [],
   "source": [
    "from sklearn.model_selection import RepeatedKFold, cross_val_score\n",
    "\n",
    "def eval_models(model):\n",
    "    cross_v= RepeatedKFold(n_splits=10, random_state=1)\n",
    "    scores = -cross_val_score(model, X, y, scoring = \"neg_mean_absolute_error\",\n",
    "                            cv = cross_v, error_score=\"raise\", n_jobs = -1)\n",
    "    return(scores)\n",
    "\n",
    "    "
   ]
  },
  {
   "cell_type": "code",
   "execution_count": null,
   "metadata": {},
   "outputs": [],
   "source": [
    "X['Stay_In_Current_City_Years'].value_counts()"
   ]
  },
  {
   "cell_type": "code",
   "execution_count": null,
   "metadata": {},
   "outputs": [],
   "source": [
    "# Apply Loop so that scores can be generated for all the Models\n",
    "\n",
    "models = stackedmodels()\n",
    "\n",
    "# Evaluations\n",
    "result, names = list(), list()\n",
    "\n",
    "for name, model in models.items():\n",
    "    scores = eval_models(model) # Evaluation Funct that we have created\n",
    "    result.append(scores) # Save the Cross Val Score\n",
    "    names.append(name) # Save the Name of the Model\n",
    "    print(\">%s %3.f (%.3f)\" % (name, scores.mean(), scores.std()))\n"
   ]
  },
  {
   "cell_type": "code",
   "execution_count": null,
   "metadata": {},
   "outputs": [],
   "source": [
    "plt.boxplot(result, labels = names, showmeans = True)\n",
    "plt.xticks(rotation = 90)\n",
    "plt.ylabel(\"MAE\")\n",
    "plt.xlabel(\"Models\")\n",
    "plt.title(\"Model Performance\")\n",
    "plt.show()"
   ]
  },
  {
   "cell_type": "code",
   "execution_count": null,
   "metadata": {},
   "outputs": [],
   "source": [
    "from xgboost.sklearn import XGBRegressor\n",
    "GBR = GradientBoostingRegressor()\n",
    "\n",
    "# Defined the Xtrain and YTrain\n",
    "X = newtrain.drop(\"Purchase\", axis = 1)\n",
    "y = newtrain.Purchase\n",
    "\n",
    "# Fit and Predict\n",
    "pred_GBR = GBR.fit(X,y).predict(newtest)\n",
    "\n",
    "# Export for submission\n",
    "\n",
    "solution = pd.DataFrame({\"Purchase\": pred_GBR, \n",
    "                        \"User_ID\": test.User_ID,\n",
    "                        \"Product_ID\": test.Product_ID})\n",
    "\n",
    "# Export it in csv\n",
    "solution.to_csv(\"GBRMODEL.csv\", index = False)"
   ]
  },
  {
   "cell_type": "markdown",
   "metadata": {},
   "source": [
    "# Non-Prarametric tests"
   ]
  },
  {
   "cell_type": "code",
   "execution_count": null,
   "metadata": {},
   "outputs": [],
   "source": [
    "import scipy.stats as stats\n",
    "from scipy.stats import f_oneway, kruskal, mannwhitneyu , levene, ttest_ind, kruskal, mannwhitneyu"
   ]
  },
  {
   "cell_type": "code",
   "execution_count": null,
   "metadata": {},
   "outputs": [],
   "source": [
    "#Checking normality for Purchase\n",
    "stats.shapiro(newtrain['Purchase'])"
   ]
  },
  {
   "cell_type": "code",
   "execution_count": null,
   "metadata": {},
   "outputs": [],
   "source": [
    "newtrain.columns"
   ]
  },
  {
   "cell_type": "code",
   "execution_count": null,
   "metadata": {},
   "outputs": [],
   "source": [
    "newtrain.Age_cat.unique()"
   ]
  },
  {
   "cell_type": "code",
   "execution_count": null,
   "metadata": {},
   "outputs": [],
   "source": [
    "#Gender\n",
    "#P-value is 0, Gender is significant\n",
    "\n",
    "kruskal((newtrain[newtrain['Gender']==0]['Purchase']),(newtrain[newtrain['Gender']==1]['Purchase']) )"
   ]
  },
  {
   "cell_type": "code",
   "execution_count": null,
   "metadata": {},
   "outputs": [],
   "source": [
    "#City_cat\n",
    "#It is significant\n",
    "\n",
    "kruskal((newtrain[newtrain['City_cat']==1]['Purchase']),(newtrain[newtrain['City_cat']==2]['Purchase']), (newtrain[newtrain['City_cat']==3]['Purchase']) )"
   ]
  },
  {
   "cell_type": "code",
   "execution_count": null,
   "metadata": {},
   "outputs": [],
   "source": [
    "#Stay_In_Current_City_Years\n",
    "#NA\n",
    "\n",
    "kruskal((newtrain[newtrain['Stay_In_Current_City_Years']==0]['Purchase']),\n",
    "        (newtrain[newtrain['Stay_In_Current_City_Years']==1]['Purchase']), \n",
    "        (newtrain[newtrain['Stay_In_Current_City_Years']==2]['Purchase']),(newtrain[newtrain['Stay_In_Current_City_Years']==3]['Purchase']), \n",
    "        (newtrain[newtrain['Stay_In_Current_City_Years']==4]['Purchase']) )"
   ]
  },
  {
   "cell_type": "code",
   "execution_count": null,
   "metadata": {},
   "outputs": [],
   "source": [
    "#Age_cat\n",
    "#Significant\n",
    "\n",
    "kruskal((newtrain[newtrain['Age_cat']==1]['Purchase']),\n",
    "        (newtrain[newtrain['Age_cat']==2]['Purchase']), \n",
    "        (newtrain[newtrain['Age_cat']==3]['Purchase']),(newtrain[newtrain['Age_cat']==4]['Purchase']), \n",
    "        (newtrain[newtrain['Age_cat']==5]['Purchase']), (newtrain[newtrain['Age_cat']==6]['Purchase']), \n",
    "        (newtrain[newtrain['Age_cat']==7]['Purchase']))"
   ]
  },
  {
   "cell_type": "code",
   "execution_count": null,
   "metadata": {},
   "outputs": [],
   "source": []
  },
  {
   "cell_type": "markdown",
   "metadata": {},
   "source": [
    "# Backward Elimination"
   ]
  },
  {
   "cell_type": "code",
   "execution_count": 38,
   "metadata": {},
   "outputs": [],
   "source": [
    "X = newtrain.drop(\"Purchase\", axis = 1)\n",
    "y = newtrain.Purchase"
   ]
  },
  {
   "cell_type": "code",
   "execution_count": 39,
   "metadata": {},
   "outputs": [
    {
     "data": {
      "text/plain": [
       "Index(['Gender', 'Occupation', 'Stay_In_Current_City_Years', 'Marital_Status',\n",
       "       'Product_Category_1', 'Product_Category_2', 'Product_Category_3',\n",
       "       'Age_cat', 'City_cat'],\n",
       "      dtype='object')"
      ]
     },
     "execution_count": 39,
     "metadata": {},
     "output_type": "execute_result"
    }
   ],
   "source": [
    "X.columns"
   ]
  },
  {
   "cell_type": "code",
   "execution_count": 40,
   "metadata": {},
   "outputs": [],
   "source": [
    "import statsmodels.api         as     sm\n",
    "from   statsmodels.formula.api import ols"
   ]
  },
  {
   "cell_type": "code",
   "execution_count": 41,
   "metadata": {},
   "outputs": [
    {
     "name": "stderr",
     "output_type": "stream",
     "text": [
      "C:\\Users\\Shweta  Sharma\\Anaconda\\lib\\site-packages\\numpy\\core\\fromnumeric.py:2389: FutureWarning: Method .ptp is deprecated and will be removed in a future version. Use numpy.ptp instead.\n",
      "  return ptp(axis=axis, out=out, **kwargs)\n"
     ]
    }
   ],
   "source": [
    "X_1 = sm.add_constant(X)\n"
   ]
  },
  {
   "cell_type": "code",
   "execution_count": 42,
   "metadata": {},
   "outputs": [
    {
     "data": {
      "text/plain": [
       "Gender                          int64\n",
       "Occupation                      int64\n",
       "Stay_In_Current_City_Years      int32\n",
       "Marital_Status                  int64\n",
       "Product_Category_1              int64\n",
       "Product_Category_2            float64\n",
       "Product_Category_3            float64\n",
       "Age_cat                         int64\n",
       "City_cat                        int64\n",
       "dtype: object"
      ]
     },
     "execution_count": 42,
     "metadata": {},
     "output_type": "execute_result"
    }
   ],
   "source": [
    "X.dtypes"
   ]
  },
  {
   "cell_type": "code",
   "execution_count": 43,
   "metadata": {},
   "outputs": [
    {
     "data": {
      "text/html": [
       "<table class=\"simpletable\">\n",
       "<caption>OLS Regression Results</caption>\n",
       "<tr>\n",
       "  <th>Dep. Variable:</th>        <td>Purchase</td>     <th>  R-squared:         </th>  <td>   0.152</td>  \n",
       "</tr>\n",
       "<tr>\n",
       "  <th>Model:</th>                   <td>OLS</td>       <th>  Adj. R-squared:    </th>  <td>   0.152</td>  \n",
       "</tr>\n",
       "<tr>\n",
       "  <th>Method:</th>             <td>Least Squares</td>  <th>  F-statistic:       </th>  <td>1.097e+04</td> \n",
       "</tr>\n",
       "<tr>\n",
       "  <th>Date:</th>             <td>Thu, 18 Jun 2020</td> <th>  Prob (F-statistic):</th>   <td>  0.00</td>   \n",
       "</tr>\n",
       "<tr>\n",
       "  <th>Time:</th>                 <td>01:45:11</td>     <th>  Log-Likelihood:    </th> <td>-5.4227e+06</td>\n",
       "</tr>\n",
       "<tr>\n",
       "  <th>No. Observations:</th>      <td>550068</td>      <th>  AIC:               </th>  <td>1.085e+07</td> \n",
       "</tr>\n",
       "<tr>\n",
       "  <th>Df Residuals:</th>          <td>550058</td>      <th>  BIC:               </th>  <td>1.085e+07</td> \n",
       "</tr>\n",
       "<tr>\n",
       "  <th>Df Model:</th>              <td>     9</td>      <th>                     </th>      <td> </td>     \n",
       "</tr>\n",
       "<tr>\n",
       "  <th>Covariance Type:</th>      <td>nonrobust</td>    <th>                     </th>      <td> </td>     \n",
       "</tr>\n",
       "</table>\n",
       "<table class=\"simpletable\">\n",
       "<tr>\n",
       "               <td></td>                 <th>coef</th>     <th>std err</th>      <th>t</th>      <th>P>|t|</th>  <th>[0.025</th>    <th>0.975]</th>  \n",
       "</tr>\n",
       "<tr>\n",
       "  <th>const</th>                      <td> 9089.2275</td> <td>   29.882</td> <td>  304.173</td> <td> 0.000</td> <td> 9030.660</td> <td> 9147.795</td>\n",
       "</tr>\n",
       "<tr>\n",
       "  <th>Gender</th>                     <td>  475.7391</td> <td>   14.584</td> <td>   32.622</td> <td> 0.000</td> <td>  447.156</td> <td>  504.322</td>\n",
       "</tr>\n",
       "<tr>\n",
       "  <th>Occupation</th>                 <td>    5.7318</td> <td>    0.968</td> <td>    5.924</td> <td> 0.000</td> <td>    3.835</td> <td>    7.628</td>\n",
       "</tr>\n",
       "<tr>\n",
       "  <th>Stay_In_Current_City_Years</th> <td>    8.5541</td> <td>    4.840</td> <td>    1.767</td> <td> 0.077</td> <td>   -0.933</td> <td>   18.041</td>\n",
       "</tr>\n",
       "<tr>\n",
       "  <th>Marital_Status</th>             <td>  -48.4703</td> <td>   13.348</td> <td>   -3.631</td> <td> 0.000</td> <td>  -74.632</td> <td>  -22.309</td>\n",
       "</tr>\n",
       "<tr>\n",
       "  <th>Product_Category_1</th>         <td> -348.0788</td> <td>    1.723</td> <td> -202.060</td> <td> 0.000</td> <td> -351.455</td> <td> -344.702</td>\n",
       "</tr>\n",
       "<tr>\n",
       "  <th>Product_Category_2</th>         <td>   12.5424</td> <td>    1.009</td> <td>   12.433</td> <td> 0.000</td> <td>   10.565</td> <td>   14.519</td>\n",
       "</tr>\n",
       "<tr>\n",
       "  <th>Product_Category_3</th>         <td>  143.6721</td> <td>    1.085</td> <td>  132.401</td> <td> 0.000</td> <td>  141.545</td> <td>  145.799</td>\n",
       "</tr>\n",
       "<tr>\n",
       "  <th>Age_cat</th>                    <td>  106.3098</td> <td>    4.910</td> <td>   21.650</td> <td> 0.000</td> <td>   96.686</td> <td>  115.934</td>\n",
       "</tr>\n",
       "<tr>\n",
       "  <th>City_cat</th>                   <td>  316.7829</td> <td>    8.276</td> <td>   38.276</td> <td> 0.000</td> <td>  300.561</td> <td>  333.004</td>\n",
       "</tr>\n",
       "</table>\n",
       "<table class=\"simpletable\">\n",
       "<tr>\n",
       "  <th>Omnibus:</th>       <td>57263.559</td> <th>  Durbin-Watson:     </th> <td>   1.726</td> \n",
       "</tr>\n",
       "<tr>\n",
       "  <th>Prob(Omnibus):</th>  <td> 0.000</td>   <th>  Jarque-Bera (JB):  </th> <td>79655.860</td>\n",
       "</tr>\n",
       "<tr>\n",
       "  <th>Skew:</th>           <td> 0.833</td>   <th>  Prob(JB):          </th> <td>    0.00</td> \n",
       "</tr>\n",
       "<tr>\n",
       "  <th>Kurtosis:</th>       <td> 3.836</td>   <th>  Cond. No.          </th> <td>    71.2</td> \n",
       "</tr>\n",
       "</table><br/><br/>Warnings:<br/>[1] Standard Errors assume that the covariance matrix of the errors is correctly specified."
      ],
      "text/plain": [
       "<class 'statsmodels.iolib.summary.Summary'>\n",
       "\"\"\"\n",
       "                            OLS Regression Results                            \n",
       "==============================================================================\n",
       "Dep. Variable:               Purchase   R-squared:                       0.152\n",
       "Model:                            OLS   Adj. R-squared:                  0.152\n",
       "Method:                 Least Squares   F-statistic:                 1.097e+04\n",
       "Date:                Thu, 18 Jun 2020   Prob (F-statistic):               0.00\n",
       "Time:                        01:45:11   Log-Likelihood:            -5.4227e+06\n",
       "No. Observations:              550068   AIC:                         1.085e+07\n",
       "Df Residuals:                  550058   BIC:                         1.085e+07\n",
       "Df Model:                           9                                         \n",
       "Covariance Type:            nonrobust                                         \n",
       "==============================================================================================\n",
       "                                 coef    std err          t      P>|t|      [0.025      0.975]\n",
       "----------------------------------------------------------------------------------------------\n",
       "const                       9089.2275     29.882    304.173      0.000    9030.660    9147.795\n",
       "Gender                       475.7391     14.584     32.622      0.000     447.156     504.322\n",
       "Occupation                     5.7318      0.968      5.924      0.000       3.835       7.628\n",
       "Stay_In_Current_City_Years     8.5541      4.840      1.767      0.077      -0.933      18.041\n",
       "Marital_Status               -48.4703     13.348     -3.631      0.000     -74.632     -22.309\n",
       "Product_Category_1          -348.0788      1.723   -202.060      0.000    -351.455    -344.702\n",
       "Product_Category_2            12.5424      1.009     12.433      0.000      10.565      14.519\n",
       "Product_Category_3           143.6721      1.085    132.401      0.000     141.545     145.799\n",
       "Age_cat                      106.3098      4.910     21.650      0.000      96.686     115.934\n",
       "City_cat                     316.7829      8.276     38.276      0.000     300.561     333.004\n",
       "==============================================================================\n",
       "Omnibus:                    57263.559   Durbin-Watson:                   1.726\n",
       "Prob(Omnibus):                  0.000   Jarque-Bera (JB):            79655.860\n",
       "Skew:                           0.833   Prob(JB):                         0.00\n",
       "Kurtosis:                       3.836   Cond. No.                         71.2\n",
       "==============================================================================\n",
       "\n",
       "Warnings:\n",
       "[1] Standard Errors assume that the covariance matrix of the errors is correctly specified.\n",
       "\"\"\""
      ]
     },
     "execution_count": 43,
     "metadata": {},
     "output_type": "execute_result"
    }
   ],
   "source": [
    "#Fitting sm.OLS model\n",
    "model = sm.OLS(y,X_1).fit()\n",
    "model.summary()"
   ]
  },
  {
   "cell_type": "code",
   "execution_count": 44,
   "metadata": {},
   "outputs": [
    {
     "name": "stdout",
     "output_type": "stream",
     "text": [
      "['Gender', 'Occupation', 'Marital_Status', 'Product_Category_1', 'Product_Category_2', 'Product_Category_3', 'Age_cat', 'City_cat']\n"
     ]
    }
   ],
   "source": [
    "#Backward Elimination\n",
    "cols = list(X.columns)\n",
    "pmax = 1\n",
    "while (len(cols)>0):\n",
    "    p= []\n",
    "    X_1 = X[cols]\n",
    "    X_1 = sm.add_constant(X_1)\n",
    "    model = sm.OLS(y,X_1).fit()\n",
    "    p = pd.Series(model.pvalues.values[1:],index = cols)      \n",
    "    pmax = max(p)\n",
    "    feature_with_p_max = p.idxmax()\n",
    "    if(pmax>0.05):\n",
    "        cols.remove(feature_with_p_max)\n",
    "    else:\n",
    "        break\n",
    "selected_features_BE = cols\n",
    "print(selected_features_BE)"
   ]
  },
  {
   "cell_type": "code",
   "execution_count": 53,
   "metadata": {
    "collapsed": true
   },
   "outputs": [
    {
     "data": {
      "text/plain": [
       "0          8370\n",
       "1         15200\n",
       "2          1422\n",
       "3          1057\n",
       "4          7969\n",
       "5         15227\n",
       "6         19215\n",
       "7         15854\n",
       "8         15686\n",
       "9          7871\n",
       "10         5254\n",
       "11         3957\n",
       "12         6073\n",
       "13        15665\n",
       "14         5378\n",
       "15         2079\n",
       "16        13055\n",
       "17         8851\n",
       "18        11788\n",
       "19        19614\n",
       "20         8584\n",
       "21         9872\n",
       "22         9743\n",
       "23         5982\n",
       "24        11927\n",
       "25        16662\n",
       "26         5887\n",
       "27         6973\n",
       "28         5391\n",
       "29        16352\n",
       "          ...  \n",
       "550038      596\n",
       "550039      595\n",
       "550040       26\n",
       "550041      488\n",
       "550042      243\n",
       "550043       48\n",
       "550044       62\n",
       "550045      252\n",
       "550046      236\n",
       "550047      244\n",
       "550048      591\n",
       "550049      473\n",
       "550050      368\n",
       "550051      489\n",
       "550052      239\n",
       "550053      371\n",
       "550054       60\n",
       "550055      238\n",
       "550056      254\n",
       "550057       61\n",
       "550058      121\n",
       "550059       48\n",
       "550060      494\n",
       "550061      599\n",
       "550062      473\n",
       "550063      368\n",
       "550064      371\n",
       "550065      137\n",
       "550066      365\n",
       "550067      490\n",
       "Name: Purchase, Length: 550068, dtype: int64"
      ]
     },
     "execution_count": 53,
     "metadata": {},
     "output_type": "execute_result"
    }
   ],
   "source": [
    "X_bk = newtrain[['Gender', 'Occupation', 'Marital_Status', 'Product_Category_1', 'Product_Category_2', 'Product_Category_3', 'Age_cat', 'City_cat']]\n",
    "y"
   ]
  },
  {
   "cell_type": "code",
   "execution_count": 54,
   "metadata": {},
   "outputs": [
    {
     "data": {
      "text/plain": [
       "Gender                  int64\n",
       "Occupation              int64\n",
       "Marital_Status          int64\n",
       "Product_Category_1      int64\n",
       "Product_Category_2    float64\n",
       "Product_Category_3    float64\n",
       "Age_cat                 int64\n",
       "City_cat                int64\n",
       "dtype: object"
      ]
     },
     "execution_count": 54,
     "metadata": {},
     "output_type": "execute_result"
    }
   ],
   "source": [
    "X_bk.dtypes"
   ]
  },
  {
   "cell_type": "code",
   "execution_count": 48,
   "metadata": {},
   "outputs": [],
   "source": [
    "from sklearn.neighbors import KNeighborsRegressor\n",
    "from sklearn.tree import DecisionTreeRegressor\n",
    "from sklearn.ensemble import RandomForestRegressor, AdaBoostRegressor, GradientBoostingRegressor\n",
    "from sklearn.ensemble import VotingRegressor\n",
    "from sklearn.model_selection import GridSearchCV\n",
    "import xgboost as xgb\n",
    "from xgboost import XGBRegressor\n",
    "from sklearn.linear_model import Lasso, Ridge, LinearRegression"
   ]
  },
  {
   "cell_type": "code",
   "execution_count": 49,
   "metadata": {},
   "outputs": [],
   "source": [
    "DT=DecisionTreeRegressor(random_state=0)\n",
    "LR=LinearRegression()\n",
    "knn=KNeighborsRegressor()\n",
    "RF=RandomForestRegressor(random_state=0)\n",
    "ABR = AdaBoostRegressor(random_state=0)\n",
    "AB_RF = AdaBoostRegressor(base_estimator=RF, random_state=0)\n",
    "AB_DT = AdaBoostRegressor(random_state=0)\n",
    "GBoost=GradientBoostingRegressor(random_state=0)\n",
    "xgbr=XGBRegressor(random_state=0)"
   ]
  },
  {
   "cell_type": "code",
   "execution_count": null,
   "metadata": {},
   "outputs": [],
   "source": [
    "LR.fit(X_bk, y)\n",
    "DT.fit(X_bk, y)\n",
    "knn.fit(X_bk, y)\n",
    "GBR.fit(X_bk, y)\n",
    "xgbr.fit(X_bk, y)\n",
    "AB_DT.fit(X_bk, y)\n",
    "RF.fit(X_bk, y)\n",
    "AB_RF.fit(X_bk, y)"
   ]
  },
  {
   "cell_type": "code",
   "execution_count": null,
   "metadata": {},
   "outputs": [],
   "source": []
  },
  {
   "cell_type": "code",
   "execution_count": 56,
   "metadata": {},
   "outputs": [],
   "source": [
    "#Stacked model\n",
    "from sklearn.tree import DecisionTreeRegressor\n",
    "from sklearn.ensemble import RandomForestRegressor, BaggingRegressor,GradientBoostingRegressor\n",
    "\n",
    "from xgboost.sklearn import XGBRegressor\n",
    "from sklearn.linear_model import Lasso, Ridge, LinearRegression\n",
    "\n",
    "def stackedmodels():\n",
    "    models = dict()\n",
    "    models['LR'] = LinearRegression()\n",
    "    models['Lasso'] = Lasso()\n",
    "    models['Ridge'] = Ridge()\n",
    "    models['Tree'] = DecisionTreeRegressor()\n",
    "    models['RF'] = RandomForestRegressor()\n",
    "    models['Bagg'] = BaggingRegressor()\n",
    "    models['GBR'] = GradientBoostingRegressor()\n",
    "    models['XGB'] = XGBRegressor()\n",
    "    return(models)"
   ]
  },
  {
   "cell_type": "code",
   "execution_count": 57,
   "metadata": {},
   "outputs": [],
   "source": [
    "from sklearn.model_selection import RepeatedKFold, cross_val_score\n",
    "\n",
    "def eval_models(model):\n",
    "    cross_v= RepeatedKFold(n_splits=10, random_state=1)\n",
    "    scores = -cross_val_score(model, X_bk, y, scoring = \"neg_mean_absolute_error\",\n",
    "                            cv = cross_v, error_score=\"raise\", n_jobs = -1)\n",
    "    return(scores)\n",
    "\n",
    "    "
   ]
  },
  {
   "cell_type": "code",
   "execution_count": null,
   "metadata": {},
   "outputs": [
    {
     "name": "stdout",
     "output_type": "stream",
     "text": [
      ">LR 3530 (12.365)\n",
      ">Lasso 3530 (12.365)\n",
      ">Ridge 3530 (12.365)\n",
      ">Tree 2283 (8.268)\n"
     ]
    }
   ],
   "source": [
    "# Apply Loop so that scores can be generated for all the Models\n",
    "\n",
    "models = stackedmodels()\n",
    "\n",
    "# Evaluations\n",
    "result, names = list(), list()\n",
    "\n",
    "for name, model in models.items():\n",
    "    scores = eval_models(model) # Evaluation Funct that we have created\n",
    "    result.append(scores) # Save the Cross Val Score\n",
    "    names.append(name) # Save the Name of the Model\n",
    "    print(\">%s %3.f (%.3f)\" % (name, scores.mean(), scores.std()))\n"
   ]
  },
  {
   "cell_type": "code",
   "execution_count": null,
   "metadata": {},
   "outputs": [],
   "source": [
    "plt.boxplot(result, labels = names, showmeans = True)\n",
    "plt.xticks(rotation = 90)\n",
    "plt.ylabel(\"MAE\")\n",
    "plt.xlabel(\"Models\")\n",
    "plt.title(\"Model Performance\")\n",
    "plt.show()"
   ]
  },
  {
   "cell_type": "raw",
   "metadata": {},
   "source": [
    "from xgboost.sklearn import XGBRegressor\n",
    "GBR = GradientBoostingRegressor()\n",
    "\n",
    "# Defined the Xtrain and YTrain\n",
    "X = newtrain.drop(\"Purchase\", axis = 1)\n",
    "y = newtrain.Purchase\n",
    "\n",
    "# Fit and Predict\n",
    "pred_GBR = GBR.fit(X,y).predict(newtest)\n",
    "\n",
    "# Export for submission\n",
    "\n",
    "solution = pd.DataFrame({\"Purchase\": pred_GBR, \n",
    "                        \"User_ID\": test.User_ID,\n",
    "                        \"Product_ID\": test.Product_ID})\n",
    "\n",
    "# Export it in csv\n",
    "solution.to_csv(\"GBRMODEL.csv\", index = False)"
   ]
  },
  {
   "cell_type": "code",
   "execution_count": null,
   "metadata": {},
   "outputs": [],
   "source": []
  }
 ],
 "metadata": {
  "kernelspec": {
   "display_name": "Python 3",
   "language": "python",
   "name": "python3"
  }
 },
 "nbformat": 4,
 "nbformat_minor": 2
}
